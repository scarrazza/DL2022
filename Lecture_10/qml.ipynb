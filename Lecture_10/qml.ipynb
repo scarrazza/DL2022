{
 "cells": [
  {
   "cell_type": "code",
   "execution_count": 1,
   "id": "a2d4c9fe",
   "metadata": {},
   "outputs": [
    {
     "name": "stderr",
     "output_type": "stream",
     "text": [
      "[Qibo 0.1.8.dev1|INFO|2022-05-14 16:51:22]: Using qibojit (cupy) backend on /GPU:0\n",
      "[Qibo 0.1.8.dev1|INFO|2022-05-14 16:51:22]: Using numpy backend on /CPU:0\n"
     ]
    }
   ],
   "source": [
    "import numpy as np\n",
    "import matplotlib.pyplot as plt\n",
    "import qibo\n",
    "qibo.set_backend(\"numpy\")\n",
    "from qibo.models import Circuit\n",
    "from qibo import gates, matrices, hamiltonians\n",
    "from qibo.optimizers import optimize\n",
    "import time"
   ]
  },
  {
   "cell_type": "code",
   "execution_count": 2,
   "id": "3a8e8a32-b85f-4516-9528-eaebdb2d1993",
   "metadata": {},
   "outputs": [],
   "source": [
    "start = time.time()"
   ]
  },
  {
   "cell_type": "markdown",
   "id": "0187bdc1-6e8e-40e5-8548-000b80088001",
   "metadata": {},
   "source": [
    "## Universal Approximant "
   ]
  },
  {
   "cell_type": "code",
   "execution_count": 3,
   "id": "2e71d519-3cde-4b8b-9ca9-5d7f1c36c135",
   "metadata": {},
   "outputs": [],
   "source": [
    "def poly(x):\n",
    "    value=np.abs(3*x**3 * (1 - x**4))\n",
    "    return value\n",
    "\n",
    "def sigmoid(x, a=10):\n",
    "    value=1 / (1 + np.exp(-a * x))\n",
    "    return value\n",
    "\n",
    "def ansatz(layers):\n",
    "    '''Create the variational quantum circuit to optimize.\n",
    "    Args:\n",
    "        layers (int): number of layers for the variational circuit.\n",
    "        \n",
    "    Returns:\n",
    "        c (qibo.models.Circuit): ansatz circuit with parameterized gates.\n",
    "    \n",
    "    '''\n",
    "    \n",
    "    c = Circuit(1) \n",
    "    c.add(gates.H(0))\n",
    "    for l in range(layers): \n",
    "        c.add(gates.RZ(0, theta=0)) \n",
    "        c.add(gates.RY(0, theta=0))\n",
    "    c.add(gates.M(0))\n",
    "    return c\n",
    "\n",
    "def circuit(c, params, x):\n",
    "    '''Sets the parameters to the variational circuit with a given input x and returns state at the end of this circuit.\n",
    "    Args:\n",
    "        c (qibo.models.Circuit): ansatz circuit with parameterized gates.\n",
    "        params (np.array): variational parameters to optimize.\n",
    "        x (np.array): (x) values of the independent variable between [-1,1].\n",
    "        \n",
    "    Returns:\n",
    "        state (qibo.states.VectorState): state at the end of the circuit with parameterized gates.\n",
    "    \n",
    "    '''\n",
    "    \n",
    "    c_params = []\n",
    "    for i in range(0, len(params), 3): \n",
    "        c_params.append(params[i]+params[i+1]*x)      \n",
    "        c_params.append(params[i+2])   \n",
    "    c.set_parameters(c_params)\n",
    "    \n",
    "    return c\n",
    "\n",
    "def cost_one(params, c, x, value):\n",
    "    '''Cost function for a single value of the independent variable.\n",
    "    Args:\n",
    "        params (np.array): variational parameters to optimize.\n",
    "        state (qibo.states.VectorState): state at the end of the circuit with parameterized gates.\n",
    "        x (float): point on the domain of the function we want to approximate.\n",
    "        value (float): f(x) value of the function corresponding to the point x.\n",
    "        \n",
    "    Returns:\n",
    "        cost (float): value that characterizes how close the approximaton of the function was to the optimial.\n",
    "    \n",
    "    '''\n",
    "    \n",
    "    state = circuit(c, params, x) \n",
    "    prob = state(nshots=1024).probabilities(qubits=[0])\n",
    "    result = prob[0]-prob[1]\n",
    "    cost = (result-value)**2 \n",
    "    return cost\n",
    "\n",
    "def cost_all(params, c, domain, train_set):\n",
    "    '''Cost function for all the values of the independent variable of the training set.\n",
    "    Args:\n",
    "        params (np.array): variational parameters to optimize.\n",
    "        c (qibo.models.Circuit): ansatz circuit with parameterized gates.\n",
    "        domain (np.array): (x) values of the independent variable between [-1,1]\n",
    "        train_set (np.array): f(x) values of the function corresponding to the points in the domain.\n",
    "        H(qibo.hamiltonians.Hamiltonian): Hamiltonian Z matrix.\n",
    "    \n",
    "    Returns:\n",
    "        cost (float): combined cost function of how close the approximaton of the function was.\n",
    "        \n",
    "    '''\n",
    "    \n",
    "    cost = 0\n",
    "    for x, value in zip(domain, train_set):\n",
    "        cost += cost_one(params, c, x, value)\n",
    "    cost /= len(domain)\n",
    "    return cost\n",
    "\n",
    "def train(domain, train_set, c, layers, method='L-BFGS-B'):\n",
    "    '''Train a given set of values of the independent variable with a 1 qubit variational circuit.\n",
    "    Args:\n",
    "        domain (np.array): (x) pvalues of the independent variable between [-1,1].\n",
    "        train_set (np.array): f(x) values of the function corresponding to the points in domain.\n",
    "        c (qibo.models.Circuit): ansatz circuit with parameterized gates.\n",
    "        layers (int): number of layers for the variational circuit.\n",
    "        method (str): optimization scheme to use.\n",
    "        H(qibo.hamiltonians.Hamiltonian): Hamiltonian Z matrix.\n",
    "        \n",
    "    Returns:\n",
    "        parameters (np.array): optimized parameters for approximation.\n",
    "    \n",
    "    '''\n",
    "    #np.random.seed(0)\n",
    "    init = np.random.rand(3*layers)\n",
    "    result, parameters, extra = optimize(cost_all, init, args=(c, domain, train_set),\n",
    "                                         method='L-BFGS-B', options={'maxiter': 60})\n",
    "    return parameters\n",
    "\n",
    "def evaluate(c, params, domain):\n",
    "    '''Evaluation of the training set with given parameters.\n",
    "    Args:\n",
    "        c (qibo.models.Circuit): ansatz circuit with parameterized gates.\n",
    "        params (np.array): optimized parameters.\n",
    "        domain (np.array): (x) values of the independent variable between [-1,1].\n",
    "    \n",
    "    Returns:\n",
    "        guess (np.array): guesses of the approximant based on the output of the quantum circuit.\n",
    "    \n",
    "    '''\n",
    "    \n",
    "    guess = []\n",
    "    for x in domain:\n",
    "        state = circuit(c, params, x)\n",
    "        prob = state(nshots=1024).probabilities(qubits=[0])\n",
    "        result = prob[0]-prob[1]\n",
    "        guess.append(result)\n",
    "    return np.array(guess)\n",
    "\n",
    "def cost_function_test(guess, test_set):\n",
    "    '''Cost function that shows difference between guess and values of the function\n",
    "    Args:\n",
    "        guess (np.array): guesses of the approximant based on the output of the quantum circuit.\n",
    "        test_set (np.array): f(x) values of the function corresponding to the points in domain.\n",
    "        \n",
    "    Returns:\n",
    "        cost (float): value that characterizes how close the approximaton of the function was to the optimial.\n",
    "        \n",
    "    '''\n",
    "    \n",
    "    cf = np.mean(np.abs(guess-test_set)**2)\n",
    "    return cf\n",
    "\n",
    "def get_set(function, domain):\n",
    "    '''Generates set of data corresponding to the function in the selected points \n",
    "    Args:\n",
    "        function (function)\n",
    "        domain (np.array): (x) values of the independent variable between [-1,1].\n",
    "        \n",
    "    Returns:\n",
    "        value (np.array): values of the function reescalated to be in the interval [-1,1].\n",
    "        \n",
    "    '''\n",
    "    \n",
    "    value = function(domain)\n",
    "    value = 2*(value-np.min(value))/(np.max(value)-np.min(value))-1\n",
    "    return value"
   ]
  },
  {
   "cell_type": "code",
   "execution_count": 4,
   "id": "74b61088-575e-47dc-8dbc-fffcd4625e24",
   "metadata": {},
   "outputs": [],
   "source": [
    "layers = 6\n",
    "domain_train = np.random.uniform(-1,1,50)"
   ]
  },
  {
   "cell_type": "code",
   "execution_count": 5,
   "id": "ffb24481-b039-46c0-9b97-3204c435ee20",
   "metadata": {},
   "outputs": [],
   "source": [
    "train_set = get_set(poly, domain_train)"
   ]
  },
  {
   "cell_type": "code",
   "execution_count": 6,
   "id": "03aef609-f68c-48d7-aea8-5672779cfbfc",
   "metadata": {},
   "outputs": [
    {
     "data": {
      "image/png": "[encoded data removed]",
      "text/plain": [
       "<Figure size 432x288 with 1 Axes>"
      ]
     },
     "metadata": {
      "needs_background": "light"
     },
     "output_type": "display_data"
    }
   ],
   "source": [
    "fig = plt.figure()\n",
    "plt.scatter(domain_train, train_set)\n",
    "plt.show()"
   ]
  },
  {
   "cell_type": "code",
   "execution_count": 7,
   "id": "74de9adb-09fd-45b4-ad56-71956ff2d5f0",
   "metadata": {},
   "outputs": [],
   "source": [
    "cir = ansatz(layers)"
   ]
  },
  {
   "cell_type": "code",
   "execution_count": 8,
   "id": "fe93b7b2-a8f5-480d-b8b8-605bac784560",
   "metadata": {},
   "outputs": [
    {
     "name": "stdout",
     "output_type": "stream",
     "text": [
      "CPU times: user 30.4 s, sys: 468 ms, total: 30.8 s\n",
      "Wall time: 30.4 s\n"
     ]
    }
   ],
   "source": [
    "%%time\n",
    "params = train(domain_train, train_set, cir, layers, method='L-BFGS-B')"
   ]
  },
  {
   "cell_type": "code",
   "execution_count": 9,
   "id": "81a82f16-3ccf-4f1a-ba80-49f0be846f92",
   "metadata": {},
   "outputs": [],
   "source": [
    "domain_test = np.random.uniform(-1,1,100)\n",
    "test_set = get_set(poly, domain_test)"
   ]
  },
  {
   "cell_type": "code",
   "execution_count": 10,
   "id": "2ac7d487-9b92-4467-b6c7-6c90663ea06e",
   "metadata": {},
   "outputs": [
    {
     "name": "stdout",
     "output_type": "stream",
     "text": [
      "CPU times: user 47.6 ms, sys: 4.1 ms, total: 51.7 ms\n",
      "Wall time: 49.4 ms\n"
     ]
    }
   ],
   "source": [
    "%%time\n",
    "guess = evaluate(cir, params, domain_test)"
   ]
  },
  {
   "cell_type": "code",
   "execution_count": 11,
   "id": "b3a83ff8-0f24-4b66-9cb2-f46e8988339e",
   "metadata": {},
   "outputs": [
    {
     "data": {
      "image/png": "[encoded data removed]",
      "text/plain": [
       "<Figure size 432x288 with 1 Axes>"
      ]
     },
     "metadata": {
      "needs_background": "light"
     },
     "output_type": "display_data"
    }
   ],
   "source": [
    "fig = plt.figure()\n",
    "plt.scatter(domain_train, train_set)\n",
    "plt.scatter(domain_test, guess)\n",
    "plt.show()"
   ]
  },
  {
   "cell_type": "code",
   "execution_count": 12,
   "id": "62350eb3-0384-47b3-b351-605ff6fa0192",
   "metadata": {},
   "outputs": [],
   "source": [
    "layers = 8\n",
    "cir = ansatz(layers)"
   ]
  },
  {
   "cell_type": "code",
   "execution_count": 13,
   "id": "f1b2f05a-a5f1-469e-b9e3-751334500f36",
   "metadata": {},
   "outputs": [],
   "source": [
    "params_8 = [-1.01998419e-02,  8.39875511e-01,  6.23198511e-01,  1.59240026e-03,\n",
    "  1.93281677e+00,  6.40394108e-01,  6.49093013e-02,  2.01085133e+00,\n",
    "  5.68015993e-01, -1.71962213e-01,  1.70355851e+00,  1.52630622e-01,\n",
    " -1.77253119e-02,  1.78128656e+00,  2.54809605e+00, -4.08334000e-01,\n",
    " -9.56465072e-01, -8.95175410e-01,  2.42801319e+00, -7.01053829e-01,\n",
    " -4.97097679e-01,  1.16572700e+00, -2.25838279e-01,  2.37050273e+00]"
   ]
  },
  {
   "cell_type": "code",
   "execution_count": 14,
   "id": "f6d972f0-487e-4b23-b6e0-f2b09efbcf0c",
   "metadata": {},
   "outputs": [],
   "source": [
    "domain_test = np.random.uniform(-1,1,100)\n",
    "test_set = get_set(poly, domain_test)"
   ]
  },
  {
   "cell_type": "code",
   "execution_count": 15,
   "id": "90635d12-9d56-4676-bfb1-d6a64b9783f6",
   "metadata": {},
   "outputs": [
    {
     "name": "stdout",
     "output_type": "stream",
     "text": [
      "CPU times: user 60.7 ms, sys: 4.04 ms, total: 64.8 ms\n",
      "Wall time: 61.9 ms\n"
     ]
    }
   ],
   "source": [
    "%%time\n",
    "guess = evaluate(cir, params_8, domain_test)"
   ]
  },
  {
   "cell_type": "code",
   "execution_count": 16,
   "id": "0e0bbb2a-36c1-4ed8-86fc-e5991bea6da7",
   "metadata": {},
   "outputs": [
    {
     "data": {
      "image/png": "[encoded data removed]",
      "text/plain": [
       "<Figure size 432x288 with 1 Axes>"
      ]
     },
     "metadata": {
      "needs_background": "light"
     },
     "output_type": "display_data"
    }
   ],
   "source": [
    "fig = plt.figure()\n",
    "plt.scatter(domain_train, train_set)\n",
    "plt.scatter(domain_test, guess)\n",
    "plt.show()"
   ]
  },
  {
   "cell_type": "markdown",
   "id": "3150cca6-7898-4a60-9fa9-5c6327c42a45",
   "metadata": {},
   "source": [
    "## One-qubit re-uploading classifier"
   ]
  },
  {
   "cell_type": "code",
   "execution_count": 17,
   "id": "1a98106e-a8be-4407-a17a-cbe3585d0761",
   "metadata": {},
   "outputs": [],
   "source": [
    "def create_dataset(num):\n",
    "    '''Creates and lables the dataset of random points in a plane in/out of a circle of half area.\n",
    "    Args:\n",
    "        num (int): number of random points to generate.\n",
    "        \n",
    "    Returns:\n",
    "        [data, labels] (np.array): (x, y) coordinates of points in a plane with [0, 1] labels for \n",
    "                                inside/outside the circle.\n",
    "    \n",
    "    '''\n",
    "    data = (-1 + 2*np.random.rand(num, 2))\n",
    "    labels = []\n",
    "    for x in data:\n",
    "        r = x[0]**2+x[1]**2\n",
    "        if r <= 2/np.pi:\n",
    "            labels.append(0)\n",
    "        else:\n",
    "            labels.append(1)\n",
    "    return [data, np.array(labels)]\n",
    "\n",
    "\n",
    "def plot_set(dataset, save=False, name=None):\n",
    "    '''Plots a given dataset with the corresponding circle with different colors for labelled in/out.\n",
    "    Args:\n",
    "        dataset (np.array): (x, y) coordinates of points in a plane with [0, 1] labels for \n",
    "                                inside/outside the circle.\n",
    "        save (Bool): whether to save the figure.\n",
    "        name (str): distinctive name to save the figure to.\n",
    "\n",
    "    Returns:\n",
    "        plot of the dataset points color coded whether labelled inside or outside the circle.\n",
    "    \n",
    "    '''\n",
    "    x_in = []\n",
    "    y_in = []\n",
    "    x_out = []\n",
    "    y_out = []\n",
    "    for i in range(len(dataset[0])):\n",
    "        if dataset[1][i] == 0:\n",
    "            x_in.append(dataset[0][i][0])\n",
    "            y_in.append(dataset[0][i][1])\n",
    "        else:\n",
    "            x_out.append(dataset[0][i][0])\n",
    "            y_out.append(dataset[0][i][1])\n",
    "    fig, ax = plt.subplots(figsize=(5, 5))\n",
    "    circle = plt.Circle((0, 0), np.sqrt(2 / np.pi), color='black', fill=False, zorder=10)\n",
    "    ax.add_artist(circle)\n",
    "    ax.scatter(x_in, y_in)\n",
    "    ax.scatter(x_out, y_out)\n",
    "    if save:\n",
    "        plt.savefig(f'classification_result_{name}.png', dpi=300, format='png', bbox_inches='tight')\n",
    "    plt.show()\n",
    "\n",
    "def ansatz(layers):\n",
    "    '''Create the variational quantum circuit to optimize.\n",
    "    Args:\n",
    "        layers (int): number of layers for the variational circuit.\n",
    "        \n",
    "    Returns:\n",
    "        c (qibo.models.Circuit): ansatz circuit with parameterized gates.\n",
    "    \n",
    "    '''\n",
    "    c = Circuit(1)\n",
    "    for l in range(layers):\n",
    "        c.add(gates.RY(0, theta=0))\n",
    "        c.add(gates.RZ(0, theta=0))\n",
    "    c.add(gates.M(0))\n",
    "    return c\n",
    "\n",
    "\n",
    "def circuit(c, params, x):\n",
    "    '''Sets the parameters to the variational circuit with a given input x.\n",
    "    Args:\n",
    "        c (qibo.models.Circuit): ansatz circuit with parameterized gates.\n",
    "        params (np.array): variational parameters to optimize.\n",
    "        x (np.array): (x, y) points on the plane of the coordinate to classify.\n",
    "        \n",
    "    Returns:\n",
    "        c (qibo.models.Circuit): circuit with the set optmization parameters.\n",
    "    \n",
    "    '''\n",
    "    c_params = []\n",
    "    for i in range(0, len(params), 4):\n",
    "        c_params.append(params[i]*x[0]+params[i+1])\n",
    "        c_params.append(params[i+2]*x[1]+params[i+3])\n",
    "    c.set_parameters(c_params)\n",
    "    return c\n",
    "\n",
    "\n",
    "def cost_one(params, c, x, label):\n",
    "    '''Cost function for a single coordinate.\n",
    "    Args:\n",
    "        params (np.array): variational parameters to optimize.\n",
    "        c (qibo.models.Circuit): ansatz circuit with parameterized gates.\n",
    "        x (np.array): (x, y) points on the plane of the coordinate to classify.\n",
    "        label (int): known location of the coordinate. 0 for inside the circle, 1 for inside.\n",
    "        \n",
    "    Returns:\n",
    "        cost (float): value that characterizes how close the classification was to the optimial.\n",
    "    \n",
    "    '''\n",
    "    #print('before c')\n",
    "    cir = circuit(c, params, x)\n",
    "    #print('after c')\n",
    "    probs = cir(nshots=1024).probabilities(qubits=[0])\n",
    "    cost = .5*(1-(probs[label]))**2\n",
    "    return cost\n",
    "\n",
    "\n",
    "def cost_all(params, c, training_set):\n",
    "    '''Cost function for all the coordinates of the training set.\n",
    "    Args:\n",
    "        params (np.array): variational parameters to optimize.\n",
    "        c (qibo.models.Circuit): ansatz circuit with parameterized gates.\n",
    "        training_set (np.array): (x, y) coordinates of points in a plane with [0, 1] labels for \n",
    "                                 inside/outside the circle.\n",
    "    \n",
    "    Returns:\n",
    "        cost (float): combined cost function of how close the overall classification was.\n",
    "        \n",
    "    '''\n",
    "    cost = 0\n",
    "    for x, label in zip(training_set[0], training_set[1]):\n",
    "        cost += cost_one(params, c, x, label)\n",
    "    cost /= len(training_set[0])\n",
    "    return cost\n",
    "\n",
    "\n",
    "def evaluate(c, params, test_set):\n",
    "    '''Evaluation of the training set with given parameters.\n",
    "    Args:\n",
    "        c (qibo.models.Circuit): ansatz circuit with parameterized gates.\n",
    "        params (np.array): optimized parameters.\n",
    "        test_set (np.array): (x, y) coordinates of points in a plane.\n",
    "    \n",
    "    Returns:\n",
    "        guess (np.array): guesses of the classifier based on the output of the quantum circuit.\n",
    "    \n",
    "    '''\n",
    "    guess = []\n",
    "    for x in test_set:\n",
    "        cir = circuit(c, params, x)\n",
    "        probs = cir(nshots=1024).probabilities(qubits=[0])\n",
    "        guess.append(np.argmax(probs))\n",
    "    return np.array(guess)\n",
    "\n",
    "\n",
    "def accuracy(guess, test_labels):\n",
    "    '''Accuracy of the test set fivent he known labels of the coordinates.\n",
    "    Args:\n",
    "        guess (np.array): guesses of the classifier based on the output of the quantum circuit.\n",
    "        test_labels (int): known location of the coordinates. 0 for inside the circle, 1 for inside.\n",
    "        \n",
    "    Returns:\n",
    "        accuracy (float): percentage of the test set that has been labelled correctly.\n",
    "        \n",
    "    '''\n",
    "    correct = guess==test_labels\n",
    "    return np.sum(correct)/len(correct)\n",
    "\n",
    "\n",
    "def train(training_set, c, layers, method='L-BFGS-B'):\n",
    "    '''Train a given set of coordinates with a 1 qubit variational circuit.\n",
    "    Args:\n",
    "        training_set (np.array): (x, y) coordinates of points in a plane with [0, 1] labels for \n",
    "                                 inside/outside the circle.\n",
    "        c (qibo.models.Circuit): ansatz circuit with parameterized gates.\n",
    "        layers (int): number of layers for the variational circuit.\n",
    "        method (str): optimization scheme to use.\n",
    "        \n",
    "    Returns:\n",
    "        parameters (np.array): optimized parameters for classification.\n",
    "        \n",
    "    {'fun': r[1], 'x': r[0], 'nfev': r[2], 'nit': r[4], 'xmean': r[5], 'stds': r[6]}\n",
    "    \n",
    "    '''\n",
    "    #np.random.seed(0)\n",
    "    init = np.random.rand(4*layers)\n",
    "    result, parameters, extra = optimize(cost_all, init, args=(c, training_set),\n",
    "                                         method='L-BFGS-B', options={'maxiter': 60, 'disp': True})\n",
    "    return parameters"
   ]
  },
  {
   "cell_type": "code",
   "execution_count": 18,
   "id": "72957a52-baf2-4980-a648-4f323b263b24",
   "metadata": {},
   "outputs": [],
   "source": [
    "layers = 5\n",
    "train_num = 200\n",
    "test_num = 500"
   ]
  },
  {
   "cell_type": "code",
   "execution_count": 19,
   "id": "86d20024-86bf-48dd-bb7e-54b2f845d1bc",
   "metadata": {},
   "outputs": [
    {
     "data": {
      "image/png": "[encoded data removed]",
      "text/plain": [
       "<Figure size 360x360 with 1 Axes>"
      ]
     },
     "metadata": {
      "needs_background": "light"
     },
     "output_type": "display_data"
    }
   ],
   "source": [
    "training_set = create_dataset(train_num)\n",
    "plot_set(training_set)"
   ]
  },
  {
   "cell_type": "code",
   "execution_count": 20,
   "id": "3cf6ba2d-8e7a-4fbc-8002-d3d06d225c95",
   "metadata": {},
   "outputs": [],
   "source": [
    "c = ansatz(layers)"
   ]
  },
  {
   "cell_type": "code",
   "execution_count": 21,
   "id": "da7dbe65-7297-4e5b-824f-f76fdadf7bde",
   "metadata": {
    "scrolled": false
   },
   "outputs": [
    {
     "name": "stdout",
     "output_type": "stream",
     "text": [
      "RUNNING THE L-BFGS-B CODE\n",
      "\n",
      "           * * *\n",
      "\n",
      "Machine precision = 2.220D-16\n",
      " N =           20     M =           10\n",
      "\n",
      "At X0         0 variables are exactly at the bounds\n"
     ]
    },
    {
     "name": "stderr",
     "output_type": "stream",
     "text": [
      " This problem is unconstrained.\n"
     ]
    },
    {
     "name": "stdout",
     "output_type": "stream",
     "text": [
      "\n",
      "At iterate    0    f=  1.88005D-01    |proj g|=  6.43227D-02\n",
      "\n",
      "At iterate    1    f=  1.54332D-01    |proj g|=  5.71716D-02\n",
      "\n",
      "At iterate    2    f=  1.19740D-01    |proj g|=  2.81147D-02\n",
      "\n",
      "At iterate    3    f=  1.13742D-01    |proj g|=  6.12842D-02\n",
      "\n",
      "At iterate    4    f=  1.02903D-01    |proj g|=  2.03194D-02\n",
      "\n",
      "At iterate    5    f=  9.88222D-02    |proj g|=  2.03267D-02\n",
      "\n",
      "At iterate    6    f=  8.38035D-02    |proj g|=  2.61144D-02\n",
      "\n",
      "At iterate    7    f=  6.84262D-02    |proj g|=  2.92827D-02\n",
      "\n",
      "At iterate    8    f=  6.00062D-02    |proj g|=  2.27611D-02\n",
      "\n",
      "At iterate    9    f=  5.34721D-02    |proj g|=  7.93929D-03\n",
      "\n",
      "At iterate   10    f=  5.09220D-02    |proj g|=  9.09787D-03\n",
      "\n",
      "At iterate   11    f=  4.83541D-02    |proj g|=  5.97361D-03\n",
      "\n",
      "At iterate   12    f=  4.60349D-02    |proj g|=  5.97682D-03\n",
      "\n",
      "At iterate   13    f=  4.15491D-02    |proj g|=  1.04408D-02\n",
      "\n",
      "At iterate   14    f=  3.87388D-02    |proj g|=  8.20304D-03\n",
      "\n",
      "At iterate   15    f=  3.79496D-02    |proj g|=  5.72256D-03\n",
      "\n",
      "At iterate   16    f=  3.75968D-02    |proj g|=  2.59256D-03\n",
      "\n",
      "At iterate   17    f=  3.74046D-02    |proj g|=  2.17036D-03\n",
      "\n",
      "At iterate   18    f=  3.70970D-02    |proj g|=  1.77947D-03\n",
      "\n",
      "At iterate   19    f=  3.67458D-02    |proj g|=  2.36233D-03\n",
      "\n",
      "At iterate   20    f=  3.64379D-02    |proj g|=  1.66094D-03\n",
      "\n",
      "At iterate   21    f=  3.59527D-02    |proj g|=  4.39373D-03\n",
      "\n",
      "At iterate   22    f=  3.56687D-02    |proj g|=  3.76030D-03\n",
      "\n",
      "At iterate   23    f=  3.52358D-02    |proj g|=  2.19599D-03\n",
      "\n",
      "At iterate   24    f=  3.50666D-02    |proj g|=  2.08466D-03\n",
      "\n",
      "At iterate   25    f=  3.48722D-02    |proj g|=  5.00880D-03\n",
      "\n",
      "At iterate   26    f=  3.45099D-02    |proj g|=  2.39628D-03\n",
      "\n",
      "At iterate   27    f=  3.38098D-02    |proj g|=  3.09259D-03\n",
      "\n",
      "At iterate   28    f=  3.35240D-02    |proj g|=  6.30410D-03\n",
      "\n",
      "At iterate   29    f=  3.32328D-02    |proj g|=  4.94052D-03\n",
      "\n",
      "At iterate   30    f=  3.27989D-02    |proj g|=  2.64713D-03\n",
      "\n",
      "At iterate   31    f=  3.22609D-02    |proj g|=  3.00960D-03\n",
      "\n",
      "At iterate   32    f=  3.18330D-02    |proj g|=  2.62636D-03\n",
      "\n",
      "At iterate   33    f=  3.15363D-02    |proj g|=  2.44841D-03\n",
      "\n",
      "At iterate   34    f=  3.13611D-02    |proj g|=  2.80903D-03\n",
      "\n",
      "At iterate   35    f=  3.11093D-02    |proj g|=  2.13421D-03\n",
      "\n",
      "At iterate   36    f=  3.08430D-02    |proj g|=  1.98977D-03\n",
      "\n",
      "At iterate   37    f=  3.07102D-02    |proj g|=  6.51683D-03\n",
      "\n",
      "At iterate   38    f=  3.03325D-02    |proj g|=  1.37854D-03\n",
      "\n",
      "At iterate   39    f=  3.02853D-02    |proj g|=  1.30275D-03\n",
      "\n",
      "At iterate   40    f=  3.02289D-02    |proj g|=  8.03994D-04\n",
      "\n",
      "At iterate   41    f=  3.02050D-02    |proj g|=  6.42202D-04\n",
      "\n",
      "At iterate   42    f=  3.01609D-02    |proj g|=  7.22565D-04\n",
      "\n",
      "At iterate   43    f=  3.00765D-02    |proj g|=  8.35496D-04\n",
      "\n",
      "At iterate   44    f=  3.00645D-02    |proj g|=  2.65836D-03\n",
      "\n",
      "At iterate   45    f=  3.00158D-02    |proj g|=  3.28865D-04\n",
      "\n",
      "At iterate   46    f=  3.00115D-02    |proj g|=  4.85626D-04\n",
      "\n",
      "At iterate   47    f=  3.00044D-02    |proj g|=  3.40806D-04\n",
      "\n",
      "At iterate   48    f=  2.99929D-02    |proj g|=  6.00790D-04\n",
      "\n",
      "At iterate   49    f=  2.99689D-02    |proj g|=  1.11946D-03\n",
      "\n",
      "At iterate   50    f=  2.99295D-02    |proj g|=  1.10794D-03\n",
      "\n",
      "At iterate   51    f=  2.98583D-02    |proj g|=  2.57462D-03\n",
      "\n",
      "At iterate   52    f=  2.97749D-02    |proj g|=  2.29196D-03\n",
      "\n",
      "At iterate   53    f=  2.97187D-02    |proj g|=  2.93988D-03\n",
      "\n",
      "At iterate   54    f=  2.95454D-02    |proj g|=  4.98964D-03\n",
      "\n",
      "At iterate   55    f=  2.91591D-02    |proj g|=  6.20667D-03\n",
      "\n",
      "At iterate   56    f=  2.88976D-02    |proj g|=  5.39866D-03\n",
      "\n",
      "At iterate   57    f=  2.87106D-02    |proj g|=  3.03359D-03\n",
      "CPU times: user 2min 2s, sys: 4.52 s, total: 2min 7s\n",
      "At iterate   58    f=  2.84899D-02    |proj g|=  2.59986D-03\n",
      "\n",
      "Wall time: 2min 2s\n",
      "\n",
      "At iterate   59    f=  2.82763D-02    |proj g|=  2.25380D-03\n",
      "\n",
      "At iterate   60    f=  2.79663D-02    |proj g|=  2.54694D-03\n",
      "\n",
      "           * * *\n",
      "\n",
      "Tit   = total number of iterations\n",
      "Tnf   = total number of function evaluations\n",
      "Tnint = total number of segments explored during Cauchy searches\n",
      "Skip  = number of BFGS updates skipped\n",
      "Nact  = number of active bounds at final generalized Cauchy point\n",
      "Projg = norm of the final projected gradient\n",
      "F     = final function value\n",
      "\n",
      "           * * *\n",
      "\n",
      "   N    Tit     Tnf  Tnint  Skip  Nact     Projg        F\n",
      "   20     60     70      1     0     0   2.547D-03   2.797D-02\n",
      "  F =   2.7966295783801800E-002\n",
      "\n",
      "STOP: TOTAL NO. of ITERATIONS REACHED LIMIT                 \n"
     ]
    }
   ],
   "source": [
    "%%time\n",
    "params = train(training_set, c, layers)"
   ]
  },
  {
   "cell_type": "code",
   "execution_count": 22,
   "id": "d496de2e-7422-40f5-9c29-5f0766ef3afb",
   "metadata": {},
   "outputs": [],
   "source": [
    "test_set = create_dataset(test_num)"
   ]
  },
  {
   "cell_type": "code",
   "execution_count": 23,
   "id": "92a5e182-6dc1-45b0-bff4-f77ffe539183",
   "metadata": {},
   "outputs": [
    {
     "name": "stdout",
     "output_type": "stream",
     "text": [
      "CPU times: user 214 ms, sys: 4.12 ms, total: 218 ms\n",
      "Wall time: 207 ms\n"
     ]
    }
   ],
   "source": [
    "%%time\n",
    "guess = evaluate(c, params, test_set[0])"
   ]
  },
  {
   "cell_type": "code",
   "execution_count": 24,
   "id": "61c8b3de-8f74-4f3f-b178-ceeb9ab66e9b",
   "metadata": {},
   "outputs": [
    {
     "name": "stdout",
     "output_type": "stream",
     "text": [
      "Accuracy reached for the test set: 94.0%\n"
     ]
    }
   ],
   "source": [
    "acc = accuracy(guess, test_set[1])\n",
    "print(f'Accuracy reached for the test set: {acc*100}%')"
   ]
  },
  {
   "cell_type": "code",
   "execution_count": 25,
   "id": "7bb9625b-2c0b-46c5-a3a6-e07d9ac4430d",
   "metadata": {},
   "outputs": [
    {
     "data": {
      "image/png": "[encoded data removed]",
      "text/plain": [
       "<Figure size 360x360 with 1 Axes>"
      ]
     },
     "metadata": {
      "needs_background": "light"
     },
     "output_type": "display_data"
    }
   ],
   "source": [
    "plot_set([test_set[0], guess])"
   ]
  }
 ],
 "metadata": {
  "kernelspec": {
   "display_name": "Python 3 (ipykernel)",
   "language": "python",
   "name": "python3"
  },
  "language_info": {
   "codemirror_mode": {
    "name": "ipython",
    "version": 3
   },
   "file_extension": ".py",
   "mimetype": "text/x-python",
   "name": "python",
   "nbconvert_exporter": "python",
   "pygments_lexer": "ipython3",
   "version": "3.9.12"
  }
 },
 "nbformat": 4,
 "nbformat_minor": 5
}
