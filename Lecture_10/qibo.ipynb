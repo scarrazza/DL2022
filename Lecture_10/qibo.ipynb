{
 "cells": [
  {
   "cell_type": "markdown",
   "metadata": {
    "id": "AhauArUXktr6"
   },
   "source": [
    "# Introduction to Quantum Computing\n",
    "\n",
    "## Table of contents\n",
    "\n",
    "* ### [Installing and importing libraries](#imports)\n",
    "\n",
    "    - [Install Qibo](#installqibo)\n",
    "    - [Check version](#version)\n",
    "\n",
    "* ### [Quantum circuits in Qibo](#quantumcircuits)\n",
    "\n",
    "    - [Executing circuits using full state vectors](#basicexecution)\n",
    "    - [Circuit summary](#summary)\n",
    "    - [Writing a Quantum Fourier Transform](#basicqft)\n",
    "    - [Performing measurements](#measurements)\n",
    "\n",
    "* ### [Variational optimization applications](#variationalapplications)\n",
    "\n",
    "    - [Variational Quantum Eigensolver (VQE)](#vqeapplication)"
   ]
  },
  {
   "cell_type": "markdown",
   "metadata": {
    "id": "5dSBXH2ulMqq"
   },
   "source": [
    "<a name=\"imports\"></a>\n",
    "## Installing and importing libraries"
   ]
  },
  {
   "cell_type": "markdown",
   "metadata": {
    "id": "SMBcnYHAlR3q"
   },
   "source": [
    "<a name=\"installqibo\"></a>\n",
    "### Install Qibo\n",
    "\n",
    "This step is required only when using Colab or an environment in which Qibo is not already installed."
   ]
  },
  {
   "cell_type": "code",
   "execution_count": null,
   "metadata": {
    "colab": {
     "base_uri": "https://localhost:8080/"
    },
    "id": "WjMiUzn7k7WO",
    "outputId": "a1edf085-0d09-4491-8a40-ae20aa1a943a"
   },
   "outputs": [],
   "source": [
    "!pip install qibo"
   ]
  },
  {
   "cell_type": "markdown",
   "metadata": {
    "id": "6_e0GEZwlos-"
   },
   "source": [
    "<a name=\"version\"></a>\n",
    "### Check version\n",
    "\n",
    "Check Qibo and Python version"
   ]
  },
  {
   "cell_type": "code",
   "execution_count": null,
   "metadata": {
    "colab": {
     "base_uri": "https://localhost:8080/"
    },
    "id": "WSZ3FTr_lpGp",
    "outputId": "bd14f327-81fa-4570-b3a9-ca1d4f3ec75a"
   },
   "outputs": [],
   "source": [
    "import sys, qibo\n",
    "print(\"Python version:\", sys.version)\n",
    "print(\"Qibo version:\", qibo.__version__)"
   ]
  },
  {
   "cell_type": "code",
   "execution_count": null,
   "metadata": {
    "id": "yVFe2NC4lzaq"
   },
   "outputs": [],
   "source": [
    "from qibo import gates, models, hamiltonians\n",
    "import numpy as np\n",
    "import matplotlib.pyplot as plt"
   ]
  },
  {
   "cell_type": "markdown",
   "metadata": {
    "id": "BN-Vffi4sZI5"
   },
   "source": [
    "<a name=\"quantumcircuits\"></a>\n",
    "## Quantum circuits in Qibo\n",
    "\n",
    "We will start this tutorial focusing on the circuit-based model of quantum computation.\n",
    "\n",
    "The main Python object used for the classical simulation of quantum circuits is `qibo.models.Circuit`. \n",
    "A circuit has a predefined number of qubits and holds a list of gates (`qibo.gates.Gate` objects) that can act on these qubits."
   ]
  },
  {
   "cell_type": "markdown",
   "metadata": {
    "id": "2BuiDQPPsjIS"
   },
   "source": [
    "<a name=\"basicexecution\"></a>\n",
    "### Executing circuits using state vectors\n",
    "\n",
    "Let's create a circuit with two qubits and add a Hadamard gate on each qubit\n",
    "![hcircuit.png](data:image/png;base64,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)"
   ]
  },
  {
   "cell_type": "code",
   "execution_count": null,
   "metadata": {
    "id": "Q56r9dgRl3wl"
   },
   "outputs": [],
   "source": [
    "circuit = models.Circuit(2)\n",
    "circuit.add(gates.H(0))\n",
    "circuit.add(gates.H(1))"
   ]
  },
  {
   "cell_type": "markdown",
   "metadata": {
    "id": "jL3w8Tfct3eE"
   },
   "source": [
    "The circuit can be visualized with"
   ]
  },
  {
   "cell_type": "code",
   "execution_count": null,
   "metadata": {
    "colab": {
     "base_uri": "https://localhost:8080/"
    },
    "id": "FdACacRKt6th",
    "outputId": "8662a300-044e-48e3-f970-04073e2f7428"
   },
   "outputs": [],
   "source": [
    "print(circuit.draw())"
   ]
  },
  {
   "cell_type": "markdown",
   "metadata": {
    "id": "fez6P_XssrW1"
   },
   "source": [
    "The circuit can be executed as follows"
   ]
  },
  {
   "cell_type": "code",
   "execution_count": null,
   "metadata": {
    "colab": {
     "base_uri": "https://localhost:8080/"
    },
    "id": "00kec0WpsqGI",
    "outputId": "119ff733-eadd-4c32-f1e4-8521e8c2932e"
   },
   "outputs": [],
   "source": [
    "final_state = circuit()\n",
    "print(final_state.state())"
   ]
  },
  {
   "cell_type": "markdown",
   "metadata": {
    "id": "dOK7N8kEtUvb"
   },
   "source": [
    "In this case the default initial state $\\left | 00\\dots 0\\right \\rangle $ is used. Here this is transformed to $\\left | ++\\dots +\\right \\rangle $ which corresponds to the printed vector (in the computational basis).\n",
    "\n",
    "The user may use a different initial state by calling the circuit on the corresponding state vector. For example acting with the above circuit on the $\\left | ++\\dots +\\right \\rangle $ will transform it back to $\\left | 00\\dots 0\\right \\rangle $:"
   ]
  },
  {
   "cell_type": "code",
   "execution_count": null,
   "metadata": {
    "colab": {
     "base_uri": "https://localhost:8080/"
    },
    "id": "niOrj0RAssxO",
    "outputId": "8e9e8e3f-0629-4c87-ee78-e8a8d0943fa8"
   },
   "outputs": [],
   "source": [
    "final_state = circuit(np.ones(4) / 2.0)\n",
    "print(final_state.state())"
   ]
  },
  {
   "cell_type": "markdown",
   "metadata": {
    "id": "7RVN2vt5tq7a"
   },
   "source": [
    "<a name=\"summary\"></a>\n",
    "### Circuit summary\n",
    "\n",
    "We can can print useful information about the circuit using `circuit.summary`:"
   ]
  },
  {
   "cell_type": "code",
   "execution_count": null,
   "metadata": {
    "colab": {
     "base_uri": "https://localhost:8080/"
    },
    "id": "3WUqPYCutgLE",
    "outputId": "6e9aa2c0-7d8e-4d77-ff6e-ed3d342a95cc"
   },
   "outputs": [],
   "source": [
    "print(circuit.summary())"
   ]
  },
  {
   "cell_type": "code",
   "execution_count": null,
   "metadata": {
    "colab": {
     "base_uri": "https://localhost:8080/"
    },
    "id": "YoCm62Gltutr",
    "outputId": "32399b53-8239-4b4c-fdaa-45f1ccf3731f"
   },
   "outputs": [],
   "source": [
    "print(circuit.to_qasm())"
   ]
  },
  {
   "cell_type": "markdown",
   "metadata": {
    "id": "0BSCkauUuZdj"
   },
   "source": [
    "<a name=\"basicqft\"></a>\n",
    "### Writing a Quantum Fourier Transform"
   ]
  },
  {
   "cell_type": "markdown",
   "metadata": {
    "id": "1Q2QplY1uar1"
   },
   "source": [
    "Because of its importance on many quantum algorithms, the circuit that implements the [Quantum Fourier Transform (QFT)](https://en.wikipedia.org/wiki/Quantum_Fourier_transform) is coded as a built-in Qibo model."
   ]
  },
  {
   "cell_type": "code",
   "execution_count": null,
   "metadata": {
    "colab": {
     "base_uri": "https://localhost:8080/"
    },
    "id": "x075bYVVtycl",
    "outputId": "bec235e2-88eb-450d-fac6-a84fdd588d55"
   },
   "outputs": [],
   "source": [
    "qft = models.QFT(4)\n",
    "print(qft.draw())"
   ]
  },
  {
   "cell_type": "code",
   "execution_count": null,
   "metadata": {
    "colab": {
     "base_uri": "https://localhost:8080/"
    },
    "id": "EdhS5eKJuiHX",
    "outputId": "0d9b6e46-53cc-4504-c7e7-e0a40a7ebd88"
   },
   "outputs": [],
   "source": [
    "final_state = qft()\n",
    "print(final_state.state())"
   ]
  },
  {
   "cell_type": "code",
   "execution_count": null,
   "metadata": {
    "colab": {
     "base_uri": "https://localhost:8080/"
    },
    "id": "EmUxfj4quog8",
    "outputId": "31868c15-82f6-4cd4-9396-640d2c07d6e2"
   },
   "outputs": [],
   "source": [
    "print(qft.summary())"
   ]
  },
  {
   "cell_type": "markdown",
   "metadata": {
    "id": "QOLLRfc0u2Hl"
   },
   "source": [
    "<a name=\"measurements\"></a>\n",
    "### Performing measurements\n",
    "\n",
    "In the previous example we showed how circuits are simulated using the full state vectors (wave function). In real implementations this information is not accessible and we should rely on measurements. Qibo simulates measurements using the measurement gate `gates.M` and passing the number of shots when executing circuits."
   ]
  },
  {
   "cell_type": "markdown",
   "metadata": {
    "id": "-qQ2Yw2du36U"
   },
   "source": [
    "Let's create and measure a circuit of two qubits containing an $R_Y$ rotation on each qubit:\n",
    "\n",
    "![measurements.png](data:image/png;base64,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)"
   ]
  },
  {
   "cell_type": "code",
   "execution_count": null,
   "metadata": {
    "id": "VbF-X_8Qu0cA"
   },
   "outputs": [],
   "source": [
    "circuit = models.Circuit(2)\n",
    "circuit.add(gates.RY(0, theta=np.pi / 3))\n",
    "circuit.add(gates.RY(1, theta=np.pi / 2))\n",
    "circuit.add(gates.M(0))\n",
    "circuit.add(gates.M(1))\n",
    "\n",
    "shots = circuit(nshots=1000)"
   ]
  },
  {
   "cell_type": "markdown",
   "metadata": {
    "id": "ExmiesMEvJzP"
   },
   "source": [
    "This object contains the outcomes of the measurement shots, which can be viewed as raw samples:"
   ]
  },
  {
   "cell_type": "code",
   "execution_count": null,
   "metadata": {
    "colab": {
     "base_uri": "https://localhost:8080/"
    },
    "id": "te5YcZ1eu9Vw",
    "outputId": "4c2091ff-b10d-48dd-8a9d-2acf0f7817d5"
   },
   "outputs": [],
   "source": [
    "shots.samples(binary=True)"
   ]
  },
  {
   "cell_type": "markdown",
   "metadata": {
    "id": "_RY3ldHMvYoi"
   },
   "source": [
    "or via their frequencies:"
   ]
  },
  {
   "cell_type": "code",
   "execution_count": null,
   "metadata": {
    "colab": {
     "base_uri": "https://localhost:8080/"
    },
    "id": "6PSvIdkZvFsS",
    "outputId": "f067fe1c-9e92-43f1-f158-4401eb0a91cb"
   },
   "outputs": [],
   "source": [
    "shots.frequencies()"
   ]
  },
  {
   "cell_type": "markdown",
   "metadata": {
    "id": "68HN4zRKve0n"
   },
   "source": [
    "The latter can be plotted in a histogram"
   ]
  },
  {
   "cell_type": "code",
   "execution_count": null,
   "metadata": {
    "colab": {
     "base_uri": "https://localhost:8080/",
     "height": 268
    },
    "id": "e_wVlDeVvakF",
    "outputId": "8eab5350-81d2-42b7-a318-bc2352c6343e"
   },
   "outputs": [],
   "source": [
    "labels, values = zip(*shots.frequencies().items())\n",
    "\n",
    "plt.figure(figsize=(7, 4))\n",
    "plt.bar(labels, values, width=0.4)\n",
    "plt.show()"
   ]
  },
  {
   "cell_type": "markdown",
   "metadata": {
    "id": "gqwzYuPQwzN_"
   },
   "source": [
    "<a name=\"variationalapplications\"></a>\n",
    "## Variational optimization applications\n",
    "\n"
   ]
  },
  {
   "cell_type": "markdown",
   "metadata": {
    "id": "QUEbCMGvw4D9"
   },
   "source": [
    "<a name=\"vqeapplication\"></a>\n",
    "### Variational Quantum Eigensolver (VQE)\n",
    "\n",
    "Qibo provides functionality to optimize a Variational Eigensolver. This includes a VQE model that handles optimization and Hamiltonians which can be used to define the loss function. In the following example we optimize a VQE to find the ground state of the Heisenberg XXZ model\n",
    "\n",
    "$$H = \\sum _{i = 1}^N \\left (X_i X_{i + 1} + Y_i Y_{i + 1} + \\delta Z_i Z_{i + 1}\\right )$$\n",
    "\n",
    "We use the variational circuit from the \"Using parametrized gates\" example as our VQE ansatz. For better performance on large `nqubits` one may use the `VariationalLayer` gate, instead of standard `RY` and `CZ` gates to define this circuit. This fuses each `CZ` gate with the neighboring `RY` gates, as shown in the figure:\n",
    "\n",
    "![varlayer.png](data:image/png;base64,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)"
   ]
  },
  {
   "cell_type": "code",
   "execution_count": null,
   "metadata": {
    "id": "zFJfFf7nvi51"
   },
   "outputs": [],
   "source": [
    "nqubits = 4 # number of qubits in the system\n",
    "nlayers = 2 # number of layers in the circuit ansatz\n",
    "\n",
    "# Define problem Hamiltonian\n",
    "hamiltonian = hamiltonians.XXZ(nqubits)\n",
    "\n",
    "# Define variational circuit ansatz\n",
    "circuit = models.Circuit(nqubits)\n",
    "pairs = list((i, i + 1) for i in range(0, nqubits - 1, 2))\n",
    "for l in range(nlayers):\n",
    "    circuit.add(gates.VariationalLayer(range(nqubits), pairs,\n",
    "                                       gates.RY, gates.CZ,\n",
    "                                       np.zeros(nqubits),\n",
    "                                       np.zeros(nqubits)))\n",
    "    circuit.add((gates.CZ(i, i + 1) for i in range(1, nqubits - 2, 2)))\n",
    "    circuit.add(gates.CZ(0, nqubits - 1)) \n",
    "circuit.add((gates.RY(i, theta=0) for i in range(nqubits)))\n",
    "\n",
    "# Define VQE model\n",
    "vqe = models.VQE(circuit, hamiltonian)"
   ]
  },
  {
   "cell_type": "code",
   "execution_count": null,
   "metadata": {
    "colab": {
     "base_uri": "https://localhost:8080/"
    },
    "id": "rfG2ZQhww2wY",
    "outputId": "1f8b18cb-36f4-4a1e-b0b1-bda6a01d0cb5"
   },
   "outputs": [],
   "source": [
    "# Calculate exact ground state energy using exact diagonalization\n",
    "target_energy = np.real(np.min(hamiltonian.eigenvalues()))\n",
    "\n",
    "# Optimize the VQE model\n",
    "initial_parameters = np.random.uniform(0, 2 * np.pi, 2 * nqubits * nlayers + nqubits)\n",
    "best_energy, params, extra = vqe.minimize(initial_parameters, method=\"BFGS\", \n",
    "                                   options={'disp': True, \"maxiter\": 100}, \n",
    "                                   compile=False)\n",
    "\n",
    "print()\n",
    "print(\"Target energy:\", target_energy)\n",
    "print(\"Minimum energy obtained:\", best_energy)"
   ]
  },
  {
   "cell_type": "code",
   "execution_count": null,
   "metadata": {},
   "outputs": [],
   "source": []
  }
 ],
 "metadata": {
  "colab": {
   "collapsed_sections": [],
   "name": "Quantum Computing - S. Carrazza",
   "provenance": []
  },
  "kernelspec": {
   "display_name": "Python 3 (ipykernel)",
   "language": "python",
   "name": "python3"
  },
  "language_info": {
   "codemirror_mode": {
    "name": "ipython",
    "version": 3
   },
   "file_extension": ".py",
   "mimetype": "text/x-python",
   "name": "python",
   "nbconvert_exporter": "python",
   "pygments_lexer": "ipython3",
   "version": "3.9.12"
  }
 },
 "nbformat": 4,
 "nbformat_minor": 1
}
